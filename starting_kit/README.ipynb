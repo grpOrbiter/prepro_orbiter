{
 "cells": [
  {
   "cell_type": "markdown",
   "metadata": {},
   "source": [
    "# Areal Project"
   ]
  },
  {
   "cell_type": "markdown",
   "metadata": {},
   "source": [
    "<div>\n",
    "<img src=\"logo.jpg\" width=150 ALIGN=\"left\" border=\"20\">\n",
    "<h1> Starting Kit for preprocessed data</h1>\n",
    "<br>This code was tested with <br>\n",
    "Python 3.6.7 <br>\n",
    "Created by Areal Team <br><br>\n",
    "ALL INFORMATION, SOFTWARE, DOCUMENTATION, AND DATA ARE PROVIDED \"AS-IS\". The CDS, CHALEARN, AND/OR OTHER ORGANIZERS OR CODE AUTHORS DISCLAIM ANY EXPRESSED OR IMPLIED WARRANTIES, INCLUDING, BUT NOT LIMITED TO, THE IMPLIED WARRANTIES OF MERCHANTABILITY AND FITNESS FOR ANY PARTICULAR PURPOSE, AND THE WARRANTY OF NON-INFRIGEMENT OF ANY THIRD PARTY'S INTELLECTUAL PROPERTY RIGHTS. IN NO EVENT SHALL AUTHORS AND ORGANIZERS BE LIABLE FOR ANY SPECIAL, \n",
    "INDIRECT OR CONSEQUENTIAL DAMAGES OR ANY DAMAGES WHATSOEVER ARISING OUT OF OR IN CONNECTION WITH THE USE OR PERFORMANCE OF SOFTWARE, DOCUMENTS, MATERIALS, PUBLICATIONS, OR INFORMATION MADE AVAILABLE FOR THE CHALLENGE. \n",
    "</div>"
   ]
  },
  {
   "cell_type": "markdown",
   "metadata": {},
   "source": [
    "<div>\n",
    "    <h2>Introduction </h2>\n",
    "     <br>\n",
    "Aerial imagery has been a primary source of geographic data for quite a long time. With technology progress, aerial imagery became really practical for remote sensing : the science of obtaining information about an object, area or phenomenon.\n",
    "Nowadays, there are many uses of image recognition spanning from robotics/drone vision to autonomous driving vehicules or face detection.\n",
    "<br>\n",
    "In this challenge, we will use pre-processed data, coming from landscape images. The goal is to learn to differentiate common and uncommon landscapes such as a beach, a lake or a meadow.\n",
    "    Data comes from part of the data set (NWPU-RESISC45) originally used in <a href=\"https://arxiv.org/pdf/1703.00121.pdf?fbclid=IwAR16qo-EX_Z05ZpxvWG8F-oBU0SlnY-3BPCWBVVOGPyJcVy7BBqCKjnsvJo\">Remote Sensing Image Scene Classification</a>. This data set contains 45 categories while we only kept 13 out of them.\n",
    "\n",
    "References and credits: \n",
    "Yuliya Tarabalka, Guillaume Charpiat, Nicolas Girard for the data sets presentation.<br>\n",
    "Gong Cheng, Junwei Han, and Xiaoqiang Lu, for the original article on the chosen data set.\n",
    "</div>"
   ]
  },
  {
   "cell_type": "markdown",
   "metadata": {},
   "source": [
    "### Requirements \n",
    "\n",
    "Our code uses multiple libraries, so the next cell will install python's required dependencies (probably only possible on your personal computers). In case you don't want to, or are running in the competition's docker, you can comment it."
   ]
  },
  {
   "cell_type": "code",
   "execution_count": 1,
   "metadata": {},
   "outputs": [],
   "source": [
    "#!pip install --user -r requirements.txt"
   ]
  },
  {
   "cell_type": "code",
   "execution_count": 2,
   "metadata": {},
   "outputs": [],
   "source": [
    "import numpy as np\n",
    "import random\n",
    "import re"
   ]
  },
  {
   "cell_type": "code",
   "execution_count": 3,
   "metadata": {},
   "outputs": [],
   "source": [
    "model_dir = \"sample_code_submission/\"\n",
    "result_dir = 'sample_result_submission/' \n",
    "problem_dir = 'ingestion_program/'  \n",
    "score_dir = 'scoring_program/'"
   ]
  },
  {
   "cell_type": "code",
   "execution_count": 4,
   "metadata": {},
   "outputs": [],
   "source": [
    "from sys import path; path.append(model_dir); path.append(problem_dir); path.append(score_dir);"
   ]
  },
  {
   "cell_type": "markdown",
   "metadata": {},
   "source": [
    "<div>\n",
    "    <h1> Step 1: Exploratory data analysis </h1>\n",
    "<p>\n",
    "We provide sample_data with the starting kit, but to prepare your submission, you must fetch the public_data from the challenge website and point to it.\n",
    "</div>"
   ]
  },
  {
   "cell_type": "markdown",
   "metadata": {},
   "source": [
    "<div>\n",
    "<img src=\"CNN.png\" width=800 align=\"center\" border=\"20\">\n",
    "We used a special Convolutional Neural Network (CNN) already trained to recognize images in order to create the new data. To create it, we kept the form of the data at three-fourth in the CNN. <br>\n",
    "This new form is highly similar to weights we can see in a classic neural network.\n",
    "</div>"
   ]
  },
  {
   "cell_type": "code",
   "execution_count": 5,
   "metadata": {},
   "outputs": [],
   "source": [
    "data_dir = '../public_data/'\n",
    "data_name = 'Areal'"
   ]
  },
  {
   "cell_type": "code",
   "execution_count": 6,
   "metadata": {
    "scrolled": true
   },
   "outputs": [
    {
     "name": "stdout",
     "output_type": "stream",
     "text": [
      "Reading ../public_data//Areal_train from AutoML format\n",
      "Number of examples = 5200\n",
      "Number of features = 1024\n",
      "        Class\n",
      "0       beach\n",
      "1   chaparral\n",
      "2       cloud\n",
      "3      desert\n",
      "4      forest\n",
      "5      island\n",
      "6        lake\n",
      "7      meadow\n",
      "8    mountain\n",
      "9       river\n",
      "10    sea_ice\n",
      "11   snowberg\n",
      "12    wetland\n",
      "Number of classes = 13\n"
     ]
    }
   ],
   "source": [
    "from ingestion_program.data_io import read_as_df\n",
    "data = read_as_df(data_dir  + '/' + data_name)"
   ]
  },
  {
   "cell_type": "code",
   "execution_count": 7,
   "metadata": {
    "scrolled": true
   },
   "outputs": [
    {
     "data": {
      "text/html": [
       "<div>\n",
       "<style scoped>\n",
       "    .dataframe tbody tr th:only-of-type {\n",
       "        vertical-align: middle;\n",
       "    }\n",
       "\n",
       "    .dataframe tbody tr th {\n",
       "        vertical-align: top;\n",
       "    }\n",
       "\n",
       "    .dataframe thead th {\n",
       "        text-align: right;\n",
       "    }\n",
       "</style>\n",
       "<table border=\"1\" class=\"dataframe\">\n",
       "  <thead>\n",
       "    <tr style=\"text-align: right;\">\n",
       "      <th></th>\n",
       "      <th>feature_1</th>\n",
       "      <th>feature_2</th>\n",
       "      <th>feature_3</th>\n",
       "      <th>feature_4</th>\n",
       "      <th>feature_5</th>\n",
       "      <th>feature_6</th>\n",
       "      <th>feature_7</th>\n",
       "      <th>feature_8</th>\n",
       "      <th>feature_9</th>\n",
       "      <th>feature_10</th>\n",
       "      <th>...</th>\n",
       "      <th>feature_1016</th>\n",
       "      <th>feature_1017</th>\n",
       "      <th>feature_1018</th>\n",
       "      <th>feature_1019</th>\n",
       "      <th>feature_1020</th>\n",
       "      <th>feature_1021</th>\n",
       "      <th>feature_1022</th>\n",
       "      <th>feature_1023</th>\n",
       "      <th>feature_1024</th>\n",
       "      <th>target</th>\n",
       "    </tr>\n",
       "  </thead>\n",
       "  <tbody>\n",
       "    <tr>\n",
       "      <th>0</th>\n",
       "      <td>0.106071</td>\n",
       "      <td>0.001777</td>\n",
       "      <td>0.004327</td>\n",
       "      <td>0.011661</td>\n",
       "      <td>0.015068</td>\n",
       "      <td>0.010906</td>\n",
       "      <td>0.019826</td>\n",
       "      <td>0.047200</td>\n",
       "      <td>0.009014</td>\n",
       "      <td>0.011369</td>\n",
       "      <td>...</td>\n",
       "      <td>0.035866</td>\n",
       "      <td>0.007674</td>\n",
       "      <td>0.011295</td>\n",
       "      <td>0.006992</td>\n",
       "      <td>0.035666</td>\n",
       "      <td>0.013637</td>\n",
       "      <td>0.054297</td>\n",
       "      <td>0.076698</td>\n",
       "      <td>0.084652</td>\n",
       "      <td>snowberg</td>\n",
       "    </tr>\n",
       "    <tr>\n",
       "      <th>1</th>\n",
       "      <td>0.069425</td>\n",
       "      <td>0.000921</td>\n",
       "      <td>0.018868</td>\n",
       "      <td>0.030748</td>\n",
       "      <td>0.019744</td>\n",
       "      <td>0.003433</td>\n",
       "      <td>0.031509</td>\n",
       "      <td>0.064145</td>\n",
       "      <td>0.043115</td>\n",
       "      <td>0.034331</td>\n",
       "      <td>...</td>\n",
       "      <td>0.025870</td>\n",
       "      <td>0.006954</td>\n",
       "      <td>0.072719</td>\n",
       "      <td>0.008778</td>\n",
       "      <td>0.031796</td>\n",
       "      <td>0.052533</td>\n",
       "      <td>0.026997</td>\n",
       "      <td>0.064874</td>\n",
       "      <td>0.023625</td>\n",
       "      <td>island</td>\n",
       "    </tr>\n",
       "    <tr>\n",
       "      <th>2</th>\n",
       "      <td>0.092052</td>\n",
       "      <td>0.000067</td>\n",
       "      <td>0.012185</td>\n",
       "      <td>0.021340</td>\n",
       "      <td>0.009253</td>\n",
       "      <td>0.010788</td>\n",
       "      <td>0.027914</td>\n",
       "      <td>0.043856</td>\n",
       "      <td>0.009098</td>\n",
       "      <td>0.015725</td>\n",
       "      <td>...</td>\n",
       "      <td>0.019264</td>\n",
       "      <td>0.007737</td>\n",
       "      <td>0.017554</td>\n",
       "      <td>0.004777</td>\n",
       "      <td>0.074484</td>\n",
       "      <td>0.019736</td>\n",
       "      <td>0.034742</td>\n",
       "      <td>0.062472</td>\n",
       "      <td>0.017112</td>\n",
       "      <td>forest</td>\n",
       "    </tr>\n",
       "    <tr>\n",
       "      <th>3</th>\n",
       "      <td>0.123751</td>\n",
       "      <td>0.002270</td>\n",
       "      <td>0.001138</td>\n",
       "      <td>0.042464</td>\n",
       "      <td>0.053743</td>\n",
       "      <td>0.016156</td>\n",
       "      <td>0.060952</td>\n",
       "      <td>0.077559</td>\n",
       "      <td>0.025709</td>\n",
       "      <td>0.034909</td>\n",
       "      <td>...</td>\n",
       "      <td>0.010575</td>\n",
       "      <td>0.006195</td>\n",
       "      <td>0.045711</td>\n",
       "      <td>0.003325</td>\n",
       "      <td>0.021387</td>\n",
       "      <td>0.053118</td>\n",
       "      <td>0.031510</td>\n",
       "      <td>0.088904</td>\n",
       "      <td>0.071321</td>\n",
       "      <td>island</td>\n",
       "    </tr>\n",
       "    <tr>\n",
       "      <th>4</th>\n",
       "      <td>0.095870</td>\n",
       "      <td>0.001628</td>\n",
       "      <td>0.006228</td>\n",
       "      <td>0.023276</td>\n",
       "      <td>0.009811</td>\n",
       "      <td>0.010350</td>\n",
       "      <td>0.119979</td>\n",
       "      <td>0.102470</td>\n",
       "      <td>0.018967</td>\n",
       "      <td>0.020871</td>\n",
       "      <td>...</td>\n",
       "      <td>0.004668</td>\n",
       "      <td>0.004444</td>\n",
       "      <td>0.009534</td>\n",
       "      <td>0.005907</td>\n",
       "      <td>0.168387</td>\n",
       "      <td>0.033255</td>\n",
       "      <td>0.003384</td>\n",
       "      <td>0.030591</td>\n",
       "      <td>0.015277</td>\n",
       "      <td>chaparral</td>\n",
       "    </tr>\n",
       "  </tbody>\n",
       "</table>\n",
       "<p>5 rows × 1025 columns</p>\n",
       "</div>"
      ],
      "text/plain": [
       "   feature_1  feature_2  feature_3  feature_4  feature_5  feature_6  \\\n",
       "0   0.106071   0.001777   0.004327   0.011661   0.015068   0.010906   \n",
       "1   0.069425   0.000921   0.018868   0.030748   0.019744   0.003433   \n",
       "2   0.092052   0.000067   0.012185   0.021340   0.009253   0.010788   \n",
       "3   0.123751   0.002270   0.001138   0.042464   0.053743   0.016156   \n",
       "4   0.095870   0.001628   0.006228   0.023276   0.009811   0.010350   \n",
       "\n",
       "   feature_7  feature_8  feature_9  feature_10    ...      feature_1016  \\\n",
       "0   0.019826   0.047200   0.009014    0.011369    ...          0.035866   \n",
       "1   0.031509   0.064145   0.043115    0.034331    ...          0.025870   \n",
       "2   0.027914   0.043856   0.009098    0.015725    ...          0.019264   \n",
       "3   0.060952   0.077559   0.025709    0.034909    ...          0.010575   \n",
       "4   0.119979   0.102470   0.018967    0.020871    ...          0.004668   \n",
       "\n",
       "   feature_1017  feature_1018  feature_1019  feature_1020  feature_1021  \\\n",
       "0      0.007674      0.011295      0.006992      0.035666      0.013637   \n",
       "1      0.006954      0.072719      0.008778      0.031796      0.052533   \n",
       "2      0.007737      0.017554      0.004777      0.074484      0.019736   \n",
       "3      0.006195      0.045711      0.003325      0.021387      0.053118   \n",
       "4      0.004444      0.009534      0.005907      0.168387      0.033255   \n",
       "\n",
       "   feature_1022  feature_1023  feature_1024     target  \n",
       "0      0.054297      0.076698      0.084652   snowberg  \n",
       "1      0.026997      0.064874      0.023625     island  \n",
       "2      0.034742      0.062472      0.017112     forest  \n",
       "3      0.031510      0.088904      0.071321     island  \n",
       "4      0.003384      0.030591      0.015277  chaparral  \n",
       "\n",
       "[5 rows x 1025 columns]"
      ]
     },
     "execution_count": 7,
     "metadata": {},
     "output_type": "execute_result"
    }
   ],
   "source": [
    "data.head()"
   ]
  },
  {
   "cell_type": "code",
   "execution_count": 8,
   "metadata": {},
   "outputs": [
    {
     "data": {
      "text/html": [
       "<div>\n",
       "<style scoped>\n",
       "    .dataframe tbody tr th:only-of-type {\n",
       "        vertical-align: middle;\n",
       "    }\n",
       "\n",
       "    .dataframe tbody tr th {\n",
       "        vertical-align: top;\n",
       "    }\n",
       "\n",
       "    .dataframe thead th {\n",
       "        text-align: right;\n",
       "    }\n",
       "</style>\n",
       "<table border=\"1\" class=\"dataframe\">\n",
       "  <thead>\n",
       "    <tr style=\"text-align: right;\">\n",
       "      <th></th>\n",
       "      <th>feature_1</th>\n",
       "      <th>feature_2</th>\n",
       "      <th>feature_3</th>\n",
       "      <th>feature_4</th>\n",
       "      <th>feature_5</th>\n",
       "      <th>feature_6</th>\n",
       "      <th>feature_7</th>\n",
       "      <th>feature_8</th>\n",
       "      <th>feature_9</th>\n",
       "      <th>feature_10</th>\n",
       "      <th>...</th>\n",
       "      <th>feature_1015</th>\n",
       "      <th>feature_1016</th>\n",
       "      <th>feature_1017</th>\n",
       "      <th>feature_1018</th>\n",
       "      <th>feature_1019</th>\n",
       "      <th>feature_1020</th>\n",
       "      <th>feature_1021</th>\n",
       "      <th>feature_1022</th>\n",
       "      <th>feature_1023</th>\n",
       "      <th>feature_1024</th>\n",
       "    </tr>\n",
       "  </thead>\n",
       "  <tbody>\n",
       "    <tr>\n",
       "      <th>count</th>\n",
       "      <td>5200.000000</td>\n",
       "      <td>5200.000000</td>\n",
       "      <td>5200.000000</td>\n",
       "      <td>5200.000000</td>\n",
       "      <td>5200.000000</td>\n",
       "      <td>5200.000000</td>\n",
       "      <td>5200.000000</td>\n",
       "      <td>5200.000000</td>\n",
       "      <td>5200.000000</td>\n",
       "      <td>5200.000000</td>\n",
       "      <td>...</td>\n",
       "      <td>5200.000000</td>\n",
       "      <td>5200.000000</td>\n",
       "      <td>5200.000000</td>\n",
       "      <td>5200.000000</td>\n",
       "      <td>5200.000000</td>\n",
       "      <td>5200.000000</td>\n",
       "      <td>5200.000000</td>\n",
       "      <td>5200.000000</td>\n",
       "      <td>5200.000000</td>\n",
       "      <td>5200.000000</td>\n",
       "    </tr>\n",
       "    <tr>\n",
       "      <th>mean</th>\n",
       "      <td>0.121305</td>\n",
       "      <td>0.003328</td>\n",
       "      <td>0.013501</td>\n",
       "      <td>0.030555</td>\n",
       "      <td>0.023089</td>\n",
       "      <td>0.010967</td>\n",
       "      <td>0.027844</td>\n",
       "      <td>0.056652</td>\n",
       "      <td>0.023242</td>\n",
       "      <td>0.024799</td>\n",
       "      <td>...</td>\n",
       "      <td>0.014169</td>\n",
       "      <td>0.017468</td>\n",
       "      <td>0.011556</td>\n",
       "      <td>0.031167</td>\n",
       "      <td>0.007498</td>\n",
       "      <td>0.058065</td>\n",
       "      <td>0.035116</td>\n",
       "      <td>0.030386</td>\n",
       "      <td>0.042872</td>\n",
       "      <td>0.046598</td>\n",
       "    </tr>\n",
       "    <tr>\n",
       "      <th>std</th>\n",
       "      <td>0.037973</td>\n",
       "      <td>0.004477</td>\n",
       "      <td>0.012499</td>\n",
       "      <td>0.026116</td>\n",
       "      <td>0.016511</td>\n",
       "      <td>0.007922</td>\n",
       "      <td>0.020707</td>\n",
       "      <td>0.017747</td>\n",
       "      <td>0.016977</td>\n",
       "      <td>0.013746</td>\n",
       "      <td>...</td>\n",
       "      <td>0.018341</td>\n",
       "      <td>0.012645</td>\n",
       "      <td>0.008341</td>\n",
       "      <td>0.026558</td>\n",
       "      <td>0.004454</td>\n",
       "      <td>0.036262</td>\n",
       "      <td>0.017226</td>\n",
       "      <td>0.028423</td>\n",
       "      <td>0.037208</td>\n",
       "      <td>0.039547</td>\n",
       "    </tr>\n",
       "    <tr>\n",
       "      <th>min</th>\n",
       "      <td>0.040885</td>\n",
       "      <td>0.000000</td>\n",
       "      <td>0.000000</td>\n",
       "      <td>0.001291</td>\n",
       "      <td>0.000162</td>\n",
       "      <td>0.000000</td>\n",
       "      <td>0.000085</td>\n",
       "      <td>0.011526</td>\n",
       "      <td>0.000000</td>\n",
       "      <td>0.000000</td>\n",
       "      <td>...</td>\n",
       "      <td>0.000000</td>\n",
       "      <td>0.000000</td>\n",
       "      <td>0.000000</td>\n",
       "      <td>0.000013</td>\n",
       "      <td>0.000000</td>\n",
       "      <td>0.001182</td>\n",
       "      <td>0.003447</td>\n",
       "      <td>0.000000</td>\n",
       "      <td>0.000000</td>\n",
       "      <td>0.000041</td>\n",
       "    </tr>\n",
       "    <tr>\n",
       "      <th>25%</th>\n",
       "      <td>0.094630</td>\n",
       "      <td>0.000570</td>\n",
       "      <td>0.004334</td>\n",
       "      <td>0.013073</td>\n",
       "      <td>0.010800</td>\n",
       "      <td>0.004841</td>\n",
       "      <td>0.012771</td>\n",
       "      <td>0.044047</td>\n",
       "      <td>0.010448</td>\n",
       "      <td>0.015497</td>\n",
       "      <td>...</td>\n",
       "      <td>0.002266</td>\n",
       "      <td>0.008225</td>\n",
       "      <td>0.005766</td>\n",
       "      <td>0.013196</td>\n",
       "      <td>0.004551</td>\n",
       "      <td>0.031261</td>\n",
       "      <td>0.022756</td>\n",
       "      <td>0.009300</td>\n",
       "      <td>0.013570</td>\n",
       "      <td>0.017079</td>\n",
       "    </tr>\n",
       "    <tr>\n",
       "      <th>50%</th>\n",
       "      <td>0.114264</td>\n",
       "      <td>0.001831</td>\n",
       "      <td>0.009751</td>\n",
       "      <td>0.023053</td>\n",
       "      <td>0.019087</td>\n",
       "      <td>0.009393</td>\n",
       "      <td>0.023050</td>\n",
       "      <td>0.055262</td>\n",
       "      <td>0.019901</td>\n",
       "      <td>0.022586</td>\n",
       "      <td>...</td>\n",
       "      <td>0.007836</td>\n",
       "      <td>0.014361</td>\n",
       "      <td>0.009639</td>\n",
       "      <td>0.023177</td>\n",
       "      <td>0.007141</td>\n",
       "      <td>0.051499</td>\n",
       "      <td>0.031793</td>\n",
       "      <td>0.021113</td>\n",
       "      <td>0.032538</td>\n",
       "      <td>0.036452</td>\n",
       "    </tr>\n",
       "    <tr>\n",
       "      <th>75%</th>\n",
       "      <td>0.140604</td>\n",
       "      <td>0.004207</td>\n",
       "      <td>0.019060</td>\n",
       "      <td>0.038441</td>\n",
       "      <td>0.031554</td>\n",
       "      <td>0.015434</td>\n",
       "      <td>0.037107</td>\n",
       "      <td>0.067248</td>\n",
       "      <td>0.032125</td>\n",
       "      <td>0.031435</td>\n",
       "      <td>...</td>\n",
       "      <td>0.018554</td>\n",
       "      <td>0.023451</td>\n",
       "      <td>0.014995</td>\n",
       "      <td>0.040629</td>\n",
       "      <td>0.009895</td>\n",
       "      <td>0.076601</td>\n",
       "      <td>0.043574</td>\n",
       "      <td>0.042843</td>\n",
       "      <td>0.062371</td>\n",
       "      <td>0.065105</td>\n",
       "    </tr>\n",
       "    <tr>\n",
       "      <th>max</th>\n",
       "      <td>0.357318</td>\n",
       "      <td>0.061369</td>\n",
       "      <td>0.085685</td>\n",
       "      <td>0.227355</td>\n",
       "      <td>0.163444</td>\n",
       "      <td>0.063399</td>\n",
       "      <td>0.145499</td>\n",
       "      <td>0.138546</td>\n",
       "      <td>0.126265</td>\n",
       "      <td>0.115797</td>\n",
       "      <td>...</td>\n",
       "      <td>0.179975</td>\n",
       "      <td>0.099365</td>\n",
       "      <td>0.083410</td>\n",
       "      <td>0.329072</td>\n",
       "      <td>0.036173</td>\n",
       "      <td>0.236607</td>\n",
       "      <td>0.151923</td>\n",
       "      <td>0.211658</td>\n",
       "      <td>0.240984</td>\n",
       "      <td>0.286852</td>\n",
       "    </tr>\n",
       "  </tbody>\n",
       "</table>\n",
       "<p>8 rows × 1024 columns</p>\n",
       "</div>"
      ],
      "text/plain": [
       "         feature_1    feature_2    feature_3    feature_4    feature_5  \\\n",
       "count  5200.000000  5200.000000  5200.000000  5200.000000  5200.000000   \n",
       "mean      0.121305     0.003328     0.013501     0.030555     0.023089   \n",
       "std       0.037973     0.004477     0.012499     0.026116     0.016511   \n",
       "min       0.040885     0.000000     0.000000     0.001291     0.000162   \n",
       "25%       0.094630     0.000570     0.004334     0.013073     0.010800   \n",
       "50%       0.114264     0.001831     0.009751     0.023053     0.019087   \n",
       "75%       0.140604     0.004207     0.019060     0.038441     0.031554   \n",
       "max       0.357318     0.061369     0.085685     0.227355     0.163444   \n",
       "\n",
       "         feature_6    feature_7    feature_8    feature_9   feature_10  \\\n",
       "count  5200.000000  5200.000000  5200.000000  5200.000000  5200.000000   \n",
       "mean      0.010967     0.027844     0.056652     0.023242     0.024799   \n",
       "std       0.007922     0.020707     0.017747     0.016977     0.013746   \n",
       "min       0.000000     0.000085     0.011526     0.000000     0.000000   \n",
       "25%       0.004841     0.012771     0.044047     0.010448     0.015497   \n",
       "50%       0.009393     0.023050     0.055262     0.019901     0.022586   \n",
       "75%       0.015434     0.037107     0.067248     0.032125     0.031435   \n",
       "max       0.063399     0.145499     0.138546     0.126265     0.115797   \n",
       "\n",
       "           ...       feature_1015  feature_1016  feature_1017  feature_1018  \\\n",
       "count      ...        5200.000000   5200.000000   5200.000000   5200.000000   \n",
       "mean       ...           0.014169      0.017468      0.011556      0.031167   \n",
       "std        ...           0.018341      0.012645      0.008341      0.026558   \n",
       "min        ...           0.000000      0.000000      0.000000      0.000013   \n",
       "25%        ...           0.002266      0.008225      0.005766      0.013196   \n",
       "50%        ...           0.007836      0.014361      0.009639      0.023177   \n",
       "75%        ...           0.018554      0.023451      0.014995      0.040629   \n",
       "max        ...           0.179975      0.099365      0.083410      0.329072   \n",
       "\n",
       "       feature_1019  feature_1020  feature_1021  feature_1022  feature_1023  \\\n",
       "count   5200.000000   5200.000000   5200.000000   5200.000000   5200.000000   \n",
       "mean       0.007498      0.058065      0.035116      0.030386      0.042872   \n",
       "std        0.004454      0.036262      0.017226      0.028423      0.037208   \n",
       "min        0.000000      0.001182      0.003447      0.000000      0.000000   \n",
       "25%        0.004551      0.031261      0.022756      0.009300      0.013570   \n",
       "50%        0.007141      0.051499      0.031793      0.021113      0.032538   \n",
       "75%        0.009895      0.076601      0.043574      0.042843      0.062371   \n",
       "max        0.036173      0.236607      0.151923      0.211658      0.240984   \n",
       "\n",
       "       feature_1024  \n",
       "count   5200.000000  \n",
       "mean       0.046598  \n",
       "std        0.039547  \n",
       "min        0.000041  \n",
       "25%        0.017079  \n",
       "50%        0.036452  \n",
       "75%        0.065105  \n",
       "max        0.286852  \n",
       "\n",
       "[8 rows x 1024 columns]"
      ]
     },
     "execution_count": 8,
     "metadata": {},
     "output_type": "execute_result"
    }
   ],
   "source": [
    "data.describe()"
   ]
  },
  {
   "cell_type": "code",
   "execution_count": 9,
   "metadata": {},
   "outputs": [
    {
     "name": "stdout",
     "output_type": "stream",
     "text": [
      "         target\n",
      "0      snowberg\n",
      "1        island\n",
      "2        forest\n",
      "3        island\n",
      "4     chaparral\n",
      "5         beach\n",
      "6        island\n",
      "7        forest\n",
      "8       wetland\n",
      "9         river\n",
      "10       island\n",
      "11    chaparral\n",
      "12        cloud\n",
      "13         lake\n",
      "14       meadow\n",
      "15        beach\n",
      "16        cloud\n",
      "17         lake\n",
      "18        cloud\n",
      "19         lake\n",
      "20     snowberg\n",
      "21       forest\n",
      "22      wetland\n",
      "23        river\n",
      "24     snowberg\n",
      "25        river\n",
      "26       desert\n",
      "27        river\n",
      "28      wetland\n",
      "29       island\n",
      "...         ...\n",
      "5170    sea_ice\n",
      "5171     desert\n",
      "5172     meadow\n",
      "5173  chaparral\n",
      "5174     forest\n",
      "5175   mountain\n",
      "5176      beach\n",
      "5177     meadow\n",
      "5178     meadow\n",
      "5179      river\n",
      "5180   snowberg\n",
      "5181   snowberg\n",
      "5182  chaparral\n",
      "5183   snowberg\n",
      "5184    wetland\n",
      "5185      cloud\n",
      "5186     island\n",
      "5187     desert\n",
      "5188       lake\n",
      "5189   snowberg\n",
      "5190      cloud\n",
      "5191      beach\n",
      "5192     desert\n",
      "5193     forest\n",
      "5194     island\n",
      "5195      beach\n",
      "5196      cloud\n",
      "5197     forest\n",
      "5198  chaparral\n",
      "5199      cloud\n",
      "\n",
      "[5200 rows x 1 columns]\n"
     ]
    }
   ],
   "source": [
    "print(data.iloc[:, -1:])\n",
    "X = data.iloc[:, :-1]\n",
    "y = data.iloc[:, -1:]"
   ]
  },
  {
   "cell_type": "markdown",
   "metadata": {},
   "source": [
    "### Visualization of values\n",
    "\n",
    "Most values are in the range (0, 5)."
   ]
  },
  {
   "cell_type": "code",
   "execution_count": 10,
   "metadata": {},
   "outputs": [
    {
     "data": {
      "image/png": "[encoded data removed]",
      "text/plain": [
       "<Figure size 2160x1080 with 1 Axes>"
      ]
     },
     "metadata": {
      "needs_background": "light"
     },
     "output_type": "display_data"
    }
   ],
   "source": [
    "import matplotlib.pyplot as plt\n",
    "%matplotlib inline\n",
    "\n",
    "plt.figure(figsize=(30,15))\n",
    "#Plot values of first 10 features\n",
    "data_plot=data.iloc[:,:10]\n",
    "data_plot.boxplot()\n",
    "plt.show()"
   ]
  },
  {
   "cell_type": "markdown",
   "metadata": {},
   "source": [
    "### Visualisation as images\n",
    "\n",
    "Although any human won't be able to make sense of those images, it is by far simpler and faster for computers to correctly recognize those \"images\" and assign them their correct classes."
   ]
  },
  {
   "cell_type": "code",
   "execution_count": 11,
   "metadata": {},
   "outputs": [
    {
     "data": {
      "image/png": "[encoded data removed]",
      "text/plain": [
       "<Figure size 720x720 with 6 Axes>"
      ]
     },
     "metadata": {
      "needs_background": "light"
     },
     "output_type": "display_data"
    }
   ],
   "source": [
    "import matplotlib.image as mpimg\n",
    "\n",
    "num_toshow = 6\n",
    "fig, _axs = plt.subplots(nrows=2, ncols=3, figsize=(10,10))\n",
    "fig.subplots_adjust(hspace=0.3)\n",
    "axs = _axs.flatten()\n",
    "\n",
    "for i in range(num_toshow):\n",
    "    img = data.iloc[i].values[:-1].reshape(32, 32)\n",
    "    label = data.values[i][-1:]\n",
    "    axs[i].set_title('Example of {}'.format(label))\n",
    "    axs[i].imshow(img.astype(float))\n",
    "\n",
    "plt.show()"
   ]
  },
  {
   "cell_type": "code",
   "execution_count": 12,
   "metadata": {},
   "outputs": [],
   "source": [
    "import seaborn as sns\n",
    "sns.set()\n",
    "\n",
    "data_corr = data.iloc[0:5, 0:5].corr(method='pearson')\n",
    "#data_corr = data.corr(method='pearson')"
   ]
  },
  {
   "cell_type": "code",
   "execution_count": 13,
   "metadata": {},
   "outputs": [
    {
     "name": "stdout",
     "output_type": "stream",
     "text": [
      "           feature_1  feature_2  feature_3  feature_4  feature_5\n",
      "feature_1   1.000000   0.680629  -0.958591   0.225029   0.628870\n",
      "feature_2   0.680629   1.000000  -0.761975   0.309701   0.632808\n",
      "feature_3  -0.958591  -0.761975   1.000000  -0.071498  -0.474953\n",
      "feature_4   0.225029   0.309701  -0.071498   1.000000   0.826918\n",
      "feature_5   0.628870   0.632808  -0.474953   0.826918   1.000000\n"
     ]
    }
   ],
   "source": [
    "print(data_corr)\n"
   ]
  },
  {
   "cell_type": "code",
   "execution_count": 14,
   "metadata": {},
   "outputs": [
    {
     "data": {
      "image/png": "[encoded data removed]",
      "text/plain": [
       "<Figure size 432x288 with 2 Axes>"
      ]
     },
     "metadata": {},
     "output_type": "display_data"
    }
   ],
   "source": [
    "ax = sns.heatmap(data_corr)"
   ]
  },
  {
   "cell_type": "markdown",
   "metadata": {},
   "source": [
    "# Step 2: Building a predictive model"
   ]
  },
  {
   "cell_type": "markdown",
   "metadata": {},
   "source": [
    "Use DataManager to separate data for train, validation and test"
   ]
  },
  {
   "cell_type": "code",
   "execution_count": 15,
   "metadata": {},
   "outputs": [
    {
     "name": "stdout",
     "output_type": "stream",
     "text": [
      "Info file found : /home/marc/Bureau/prepro_orbiter/public_data/Areal_public.info\n",
      "DataManager : Areal\n",
      "info:\n",
      "\tusage = Sample dataset Areal preprocessed data\n",
      "\tname = areal\n",
      "\ttask = multiclass.classification\n",
      "\ttarget_type = Categorical\n",
      "\tfeat_type = Numerical\n",
      "\tmetric = accuracy\n",
      "\ttime_budget = 12000\n",
      "\tfeat_num = 1024\n",
      "\ttarget_num = 13\n",
      "\tlabel_num = 13\n",
      "\ttrain_num = 5200\n",
      "\tvalid_num = 1950\n",
      "\ttest_num = 1950\n",
      "\thas_categorical = 0\n",
      "\thas_missing = 0\n",
      "\tis_sparse = 0\n",
      "\tformat = dense\n",
      "data:\n",
      "\tX_train = array(5200, 1024)\n",
      "\tY_train = array(5200, 1)\n",
      "\tX_valid = array(1950, 1024)\n",
      "\tY_valid = array(0,)\n",
      "\tX_test = array(1950, 1024)\n",
      "\tY_test = array(0,)\n",
      "feat_type:\tarray(1024,)\n",
      "feat_idx:\tarray(0,)\n",
      "\n"
     ]
    }
   ],
   "source": [
    "from data_manager import DataManager\n",
    "D = DataManager(data_name, data_dir)\n",
    "print(D)"
   ]
  },
  {
   "cell_type": "markdown",
   "metadata": {},
   "source": [
    "Get data and labels by calling D.data (DataManager.data)"
   ]
  },
  {
   "cell_type": "code",
   "execution_count": 16,
   "metadata": {},
   "outputs": [],
   "source": [
    "X_train = D.data['X_train']\n",
    "Y_train = D.data['Y_train']"
   ]
  },
  {
   "cell_type": "markdown",
   "metadata": {},
   "source": [
    "The model is a simpler version of the decision tree algorithm of sklearn.\n",
    "\n",
    "You can only change the parameter max_depth which has a default value of 5."
   ]
  },
  {
   "cell_type": "markdown",
   "metadata": {},
   "source": [
    "# Choix du model automatique :"
   ]
  },
  {
   "cell_type": "code",
   "execution_count": 17,
   "metadata": {},
   "outputs": [],
   "source": [
    "from model import baselineModel\n",
    "import model as mdl"
   ]
  },
  {
   "cell_type": "code",
   "execution_count": 18,
   "metadata": {},
   "outputs": [
    {
     "name": "stdout",
     "output_type": "stream",
     "text": [
      "1° cas : recherche des meilleurs paramètres avec les images de base (SVC):\n",
      "Les meilleurs paramètres sont : {'C': 10}, qui donnent un score de : 0.895 (en 243 secondes)\n",
      "2° cas : recherche des meilleurs paramètres avec les images de base :\n",
      "Les meilleurs paramètres sont : {'max_iter': 2500, 'solver': 'lbfgs'}, qui donnent un score de : 0.884 (en 357 secondes)\n",
      "On sélectionne SVC !\n",
      "\n",
      "3° cas : recherche des améliorations possibles de notre preprocessing (PCA):\n",
      "Pour n_components = 128, on obtient un score de 0.895.\n",
      "Pour n_components = 256, on obtient un score de 0.894.\n",
      "Pour n_components = 384, on obtient un score de 0.896.\n",
      "Pour n_components = 512, on obtient un score de 0.896.\n",
      "Pour n_components = 640, on obtient un score de 0.896.\n",
      "Pour n_components = 768, on obtient un score de 0.897.\n",
      "Pour n_components = 896, on obtient un score de 0.897.\n",
      "Le meilleur paramètre pour n_components : 768, qui donnent un score de : 0.897\n",
      "\n",
      "Le model choisit est celui avec notre preprocessing !\n"
     ]
    },
    {
     "data": {
      "image/png": "[encoded data removed]",
      "text/plain": [
       "<Figure size 720x720 with 2 Axes>"
      ]
     },
     "metadata": {},
     "output_type": "display_data"
    }
   ],
   "source": [
    "M = baselineModel()\n",
    "M = mdl.tests_auto(X_train, Y_train)"
   ]
  },
  {
   "cell_type": "markdown",
   "metadata": {},
   "source": [
    "#### Fit the model\n",
    "\n",
    "Data as first argument, Labels as second, with .reshape(-1) to make sure that the array containing labels is flat and don't have multiple dimensions."
   ]
  },
  {
   "cell_type": "code",
   "execution_count": 19,
   "metadata": {},
   "outputs": [
    {
     "name": "stdout",
     "output_type": "stream",
     "text": [
      "FIT: dim(X)= [5200, 1024]\n",
      "FIT: dim(y)= [5200, 1]\n"
     ]
    }
   ],
   "source": [
    "M.best_prepro = False\n",
    "M.fit(X_train, Y_train.reshape(-1))"
   ]
  },
  {
   "cell_type": "code",
   "execution_count": 20,
   "metadata": {},
   "outputs": [
    {
     "name": "stdout",
     "output_type": "stream",
     "text": [
      "PREDICT: dim(X)= [5200, 1024]\n",
      "PREDICT: dim(y)= [5200, 1]\n",
      "PREDICT: dim(X)= [1950, 1024]\n",
      "PREDICT: dim(y)= [1950, 1]\n",
      "PREDICT: dim(X)= [1950, 1024]\n",
      "PREDICT: dim(y)= [1950, 1]\n"
     ]
    }
   ],
   "source": [
    "Y_hat_train = M.predict(D.data['X_train'])\n",
    "Y_hat_valid = M.predict(D.data['X_valid'])\n",
    "Y_hat_test = M.predict(D.data['X_test'])"
   ]
  },
  {
   "cell_type": "code",
   "execution_count": 21,
   "metadata": {},
   "outputs": [
    {
     "name": "stdout",
     "output_type": "stream",
     "text": [
      "sample_result_submission/Areal_test.predict\r\n",
      "sample_result_submission/Areal_train.predict\r\n",
      "sample_result_submission/Areal_valid.predict\r\n"
     ]
    }
   ],
   "source": [
    "# m.save(trained_model_name)                 \n",
    "result_name = result_dir + data_name\n",
    "from data_io import write\n",
    "from data_io import mkdir\n",
    "mkdir(result_dir)\n",
    "\n",
    "write(result_name + '_train.predict', Y_hat_train)\n",
    "write(result_name + '_valid.predict', Y_hat_valid)\n",
    "write(result_name + '_test.predict', Y_hat_test)\n",
    "!ls $result_name*"
   ]
  },
  {
   "cell_type": "markdown",
   "metadata": {},
   "source": [
    "# Scoring predictions"
   ]
  },
  {
   "cell_type": "code",
   "execution_count": 22,
   "metadata": {},
   "outputs": [
    {
     "name": "stdout",
     "output_type": "stream",
     "text": [
      "Using scoring metric: accuracy\n"
     ]
    }
   ],
   "source": [
    "from libscores import get_metric\n",
    "metric_name, scoring_function = get_metric()\n",
    "print('Using scoring metric:', metric_name)"
   ]
  },
  {
   "cell_type": "code",
   "execution_count": 23,
   "metadata": {
    "scrolled": true
   },
   "outputs": [
    {
     "name": "stdout",
     "output_type": "stream",
     "text": [
      "Ideal score for the accuracy metric = 1.0000 \n",
      "\n",
      "Scores with BaselineModel\n",
      "Training score for the accuracy metric = 0.9777\n"
     ]
    }
   ],
   "source": [
    "print('Ideal score for the', metric_name, 'metric = %5.4f' % scoring_function(Y_train, Y_train), \"\\n\")\n",
    "\n",
    "print(\"Scores with BaselineModel\")\n",
    "print('Training score for the', metric_name, 'metric = %5.4f' % scoring_function(Y_train, Y_hat_train))\n",
    "if len(D.data['Y_valid'] > 0) and len(D.data['Y_test'] > 0):\n",
    "    print('Validation score for the', metric_name, 'metric = %5.4f' % scoring_function(D.data['Y_valid'], Y_hat_valid))\n",
    "    print('Test score for the', metric_name, 'metric = %5.4f' % scoring_function(D.data['Y_test'], Y_hat_test))"
   ]
  },
  {
   "cell_type": "markdown",
   "metadata": {},
   "source": [
    "Keep in mind that the provided model is one that heavily overfits so you shouldn't look too much at the training score.\n",
    "\n",
    "Using cross-validation (see a bit below) will give more significant results."
   ]
  },
  {
   "cell_type": "markdown",
   "metadata": {},
   "source": [
    "## Confusion matrix\n",
    "\n",
    "Doesn't have much value on train with a 100% accuracy, but it can be good to look at if you change your model."
   ]
  },
  {
   "cell_type": "code",
   "execution_count": 24,
   "metadata": {},
   "outputs": [
    {
     "data": {
      "text/plain": [
       "array([[388,   0,   0,   0,   0,   0,   0,   0,   8,   0,   0,   1,   3],\n",
       "       [  0, 399,   0,   0,   1,   0,   0,   0,   0,   0,   0,   0,   0],\n",
       "       [  0,   0, 400,   0,   0,   0,   0,   0,   0,   0,   0,   0,   0],\n",
       "       [  0,   0,   0, 400,   0,   0,   0,   0,   0,   0,   0,   0,   0],\n",
       "       [  0,   0,   0,   0, 376,   0,   0,   4,   0,   9,   5,   1,   5],\n",
       "       [  0,   0,   0,   1,   1, 397,   0,   0,   0,   0,   0,   1,   0],\n",
       "       [  1,   0,   0,   0,   0,   0, 394,   0,   0,   0,   0,   5,   0],\n",
       "       [  0,   0,   0,   0,   1,   0,   0, 398,   0,   0,   1,   0,   0],\n",
       "       [  3,   0,   0,   0,   2,   0,   0,   0, 387,   1,   0,   0,   7],\n",
       "       [  1,   0,   0,   1,  11,   0,   1,   0,   2, 379,   0,   3,   2],\n",
       "       [  0,   0,   0,   0,   1,   0,   0,   2,   0,   0, 397,   0,   0],\n",
       "       [  0,   0,   0,   0,   2,   0,   2,   0,   0,   0,   2, 392,   2],\n",
       "       [  0,   0,   0,   0,   8,   0,   0,   0,   4,   9,   1,   1, 377]])"
      ]
     },
     "execution_count": 24,
     "metadata": {},
     "output_type": "execute_result"
    }
   ],
   "source": [
    "from sklearn.metrics import confusion_matrix\n",
    "confusion_matrix(Y_train, Y_hat_train)"
   ]
  },
  {
   "cell_type": "markdown",
   "metadata": {},
   "source": [
    "# Cross-validation\n",
    "\n",
    "Because validation and test labels should first not be available, we do cross validation to see our models quality"
   ]
  },
  {
   "cell_type": "code",
   "execution_count": 25,
   "metadata": {
    "scrolled": true
   },
   "outputs": [
    {
     "name": "stdout",
     "output_type": "stream",
     "text": [
      "FIT: dim(X)= [4160, 1024]\n",
      "FIT: dim(y)= [4160, 1]\n",
      "PREDICT: dim(X)= [1040, 1024]\n",
      "PREDICT: dim(y)= [1040, 1]\n",
      "FIT: dim(X)= [4160, 1024]\n",
      "FIT: dim(y)= [4160, 1]\n",
      "PREDICT: dim(X)= [1040, 1024]\n",
      "PREDICT: dim(y)= [1040, 1]\n",
      "FIT: dim(X)= [4160, 1024]\n",
      "FIT: dim(y)= [4160, 1]\n",
      "PREDICT: dim(X)= [1040, 1024]\n",
      "PREDICT: dim(y)= [1040, 1]\n",
      "FIT: dim(X)= [4160, 1024]\n",
      "FIT: dim(y)= [4160, 1]\n",
      "PREDICT: dim(X)= [1040, 1024]\n",
      "PREDICT: dim(y)= [1040, 1]\n",
      "FIT: dim(X)= [4160, 1024]\n",
      "FIT: dim(y)= [4160, 1]\n",
      "PREDICT: dim(X)= [1040, 1024]\n",
      "PREDICT: dim(y)= [1040, 1]\n",
      "\n",
      "CV score (95 perc. CI): 0.90 (+/- 0.02)\n"
     ]
    }
   ],
   "source": [
    "from sklearn.metrics import make_scorer\n",
    "from sklearn.model_selection import cross_val_score\n",
    "\n",
    "scores = cross_val_score(M, X_train, Y_train.ravel(), cv=5, scoring=make_scorer(scoring_function))\n",
    "print('\\nCV score (95 perc. CI): %0.2f (+/- %0.2f)' % (scores.mean(), scores.std() * 2))"
   ]
  },
  {
   "cell_type": "markdown",
   "metadata": {},
   "source": [
    "# Submission\n",
    "\n",
    "## Example\n",
    "\n",
    "Example needs to have python3 installed\n",
    "\n",
    "Test to see whether submission with ingestion program is working"
   ]
  },
  {
   "cell_type": "code",
   "execution_count": 26,
   "metadata": {
    "scrolled": false
   },
   "outputs": [
    {
     "name": "stdout",
     "output_type": "stream",
     "text": [
      "Using input_dir: /home/marc/Bureau/prepro_orbiter/public_data\n",
      "Using output_dir: /home/marc/Bureau/prepro_orbiter/starting_kit/sample_result_submission\n",
      "Using program_dir: /home/marc/Bureau/prepro_orbiter/starting_kit/ingestion_program\n",
      "Using submission_dir: /home/marc/Bureau/prepro_orbiter/starting_kit/sample_code_submission\n",
      "\n",
      "========== Ingestion program version 6 ==========\n",
      "\n",
      "************************************************\n",
      "******** Processing dataset Areal ********\n",
      "************************************************\n",
      "========= Reading and converting data ==========\n",
      "Info file found : /home/marc/Bureau/prepro_orbiter/public_data/Areal_public.info\n",
      "========= Reading /home/marc/Bureau/prepro_orbiter/public_data/Areal_feat.type\n",
      "[+] Success in  0.00 sec\n",
      "========= Reading /home/marc/Bureau/prepro_orbiter/public_data/Areal_train.data\n",
      "Replace missing values by 0 (slow, sorry)\n",
      "[+] Success in  3.39 sec\n",
      "========= Reading /home/marc/Bureau/prepro_orbiter/public_data/Areal_train.solution\n",
      "[+] Success in  0.01 sec\n",
      "========= Reading /home/marc/Bureau/prepro_orbiter/public_data/Areal_valid.data\n",
      "Replace missing values by 0 (slow, sorry)\n",
      "[+] Success in  1.25 sec\n",
      "========= Reading /home/marc/Bureau/prepro_orbiter/public_data/Areal_valid.solution\n",
      "[+] Success in  0.00 sec\n",
      "========= Reading /home/marc/Bureau/prepro_orbiter/public_data/Areal_test.data\n",
      "Replace missing values by 0 (slow, sorry)\n",
      "[+] Success in  1.25 sec\n",
      "========= Reading /home/marc/Bureau/prepro_orbiter/public_data/Areal_test.solution\n",
      "[+] Success in  0.00 sec\n",
      "DataManager : Areal\n",
      "info:\n",
      "\tusage = Sample dataset Areal preprocessed data\n",
      "\tname = areal\n",
      "\ttask = multiclass.classification\n",
      "\ttarget_type = Categorical\n",
      "\tfeat_type = Numerical\n",
      "\tmetric = accuracy\n",
      "\ttime_budget = 12000\n",
      "\tfeat_num = 1024\n",
      "\ttarget_num = 13\n",
      "\tlabel_num = 13\n",
      "\ttrain_num = 5200\n",
      "\tvalid_num = 1950\n",
      "\ttest_num = 1950\n",
      "\thas_categorical = 0\n",
      "\thas_missing = 0\n",
      "\tis_sparse = 0\n",
      "\tformat = dense\n",
      "data:\n",
      "\tX_train = array(5200, 1024)\n",
      "\tY_train = array(5200, 1)\n",
      "\tX_valid = array(1950, 1024)\n",
      "\tY_valid = array(0,)\n",
      "\tX_test = array(1950, 1024)\n",
      "\tY_test = array(0,)\n",
      "feat_type:\tarray(1024,)\n",
      "feat_idx:\tarray(1024,)\n",
      "\n",
      "[+] Size of uploaded data  56.00 bytes\n",
      "[+] Cumulated time budget (all tasks so far)  12000.00 sec\n",
      "[+] Time budget for this task 12000.00 sec\n",
      "[+] Remaining time after reading data 11993.97 sec\n",
      "======== Creating model ==========\n",
      "**********************************************************\n",
      "****** Attempting to reload model to avoid training ******\n",
      "**********************************************************\n",
      "======== Trained model not found, proceeding to train!\n",
      "FIT: dim(X)= [5200, 1024]\n",
      "FIT: dim(y)= [5200, 1]\n",
      "/home/marc/anaconda3/lib/python3.7/site-packages/sklearn/utils/validation.py:761: DataConversionWarning: A column-vector y was passed when a 1d array was expected. Please change the shape of y to (n_samples, ), for example using ravel().\n",
      "  y = column_or_1d(y, warn=True)\n",
      "[+] Fitting success, time spent so far  5.64 sec\n",
      "======== Saving model to: /home/marc/Bureau/prepro_orbiter/starting_kit/sample_result_submission\n",
      "[+] Success!\n",
      "PREDICT: dim(X)= [5200, 1024]\n",
      "PREDICT: dim(y)= [5200, 1]\n",
      "PREDICT: dim(X)= [1950, 1024]\n",
      "PREDICT: dim(y)= [1950, 1]\n",
      "PREDICT: dim(X)= [1950, 1024]\n",
      "PREDICT: dim(y)= [1950, 1]\n",
      "[+] Prediction success, time spent so far 25.36 sec\n",
      "======== Saving results to: /home/marc/Bureau/prepro_orbiter/starting_kit/sample_result_submission\n",
      "[+] Results saved, time spent so far 25.38 sec\n",
      "[+] End cycle, time left 11974.62 sec\n",
      "[+] Done\n",
      "[+] Overall time spent 32.56 sec ::  Overall time budget 12000.00 sec\n"
     ]
    }
   ],
   "source": [
    "!python3 $problem_dir/ingestion.py $data_dir $result_dir $problem_dir $model_dir"
   ]
  },
  {
   "cell_type": "markdown",
   "metadata": {},
   "source": [
    "### Test scoring program"
   ]
  },
  {
   "cell_type": "code",
   "execution_count": 27,
   "metadata": {},
   "outputs": [
    {
     "name": "stdout",
     "output_type": "stream",
     "text": [
      "======= Set 1 (Areal_train): accuracy(set1_score)=0.977692307692 =======\r\n"
     ]
    }
   ],
   "source": [
    "scoring_output_dir = 'scoring_output'\n",
    "!python3 $score_dir/score.py $data_dir $result_dir $scoring_output_dir"
   ]
  },
  {
   "cell_type": "markdown",
   "metadata": {},
   "source": [
    "# Prepare the submission"
   ]
  },
  {
   "cell_type": "code",
   "execution_count": 28,
   "metadata": {},
   "outputs": [
    {
     "name": "stdout",
     "output_type": "stream",
     "text": [
      "Submit one of these files:\n",
      "./sample_code_submission_prep_19-04-07-23-15.zip\n",
      "./sample_result_submission_prep_19-04-07-23-15.zip\n"
     ]
    }
   ],
   "source": [
    "import datetime \n",
    "from data_io import zipdir\n",
    "the_date = datetime.datetime.now().strftime(\"%y-%m-%d-%H-%M\")\n",
    "sample_code_submission = './sample_code_submission_prep_' + the_date + '.zip'\n",
    "sample_result_submission = './sample_result_submission_prep_' + the_date + '.zip'\n",
    "zipdir(sample_code_submission, model_dir)\n",
    "zipdir(sample_result_submission, result_dir)\n",
    "print(\"Submit one of these files:\\n\" + sample_code_submission + \"\\n\" + sample_result_submission)"
   ]
  }
 ],
 "metadata": {
  "kernelspec": {
   "display_name": "Python 3",
   "language": "python",
   "name": "python3"
  },
  "language_info": {
   "codemirror_mode": {
    "name": "ipython",
    "version": 3
   },
   "file_extension": ".py",
   "mimetype": "text/x-python",
   "name": "python",
   "nbconvert_exporter": "python",
   "pygments_lexer": "ipython3",
   "version": "3.7.1"
  }
 },
 "nbformat": 4,
 "nbformat_minor": 2
}
