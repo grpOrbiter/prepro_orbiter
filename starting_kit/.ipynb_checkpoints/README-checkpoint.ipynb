{
 "cells": [
  {
   "cell_type": "markdown",
   "metadata": {},
   "source": [
    "# Areal Project"
   ]
  },
  {
   "cell_type": "markdown",
   "metadata": {},
   "source": [
    "<div>\n",
    "<img src=\"logo.jpg\" width=150 ALIGN=\"left\" border=\"20\">\n",
    "<h1> Starting Kit for preprocessed data</h1>\n",
    "<br>This code was tested with <br>\n",
    "Python 3.6.7 <br>\n",
    "Created by Areal Team <br><br>\n",
    "ALL INFORMATION, SOFTWARE, DOCUMENTATION, AND DATA ARE PROVIDED \"AS-IS\". The CDS, CHALEARN, AND/OR OTHER ORGANIZERS OR CODE AUTHORS DISCLAIM ANY EXPRESSED OR IMPLIED WARRANTIES, INCLUDING, BUT NOT LIMITED TO, THE IMPLIED WARRANTIES OF MERCHANTABILITY AND FITNESS FOR ANY PARTICULAR PURPOSE, AND THE WARRANTY OF NON-INFRIGEMENT OF ANY THIRD PARTY'S INTELLECTUAL PROPERTY RIGHTS. IN NO EVENT SHALL AUTHORS AND ORGANIZERS BE LIABLE FOR ANY SPECIAL, \n",
    "INDIRECT OR CONSEQUENTIAL DAMAGES OR ANY DAMAGES WHATSOEVER ARISING OUT OF OR IN CONNECTION WITH THE USE OR PERFORMANCE OF SOFTWARE, DOCUMENTS, MATERIALS, PUBLICATIONS, OR INFORMATION MADE AVAILABLE FOR THE CHALLENGE. \n",
    "</div>"
   ]
  },
  {
   "cell_type": "markdown",
   "metadata": {},
   "source": [
    "<div>\n",
    "    <h2>Introduction </h2>\n",
    "     <br>\n",
    "Aerial imagery has been a primary source of geographic data for quite a long time. With technology progress, aerial imagery became really practical for remote sensing : the science of obtaining information about an object, area or phenomenon.\n",
    "Nowadays, there are many uses of image recognition spanning from robotics/drone vision to autonomous driving vehicules or face detection.\n",
    "<br>\n",
    "In this challenge, we will use pre-processed data, coming from landscape images. The goal is to learn to differentiate common and uncommon landscapes such as a beach, a lake or a meadow.\n",
    "    Data comes from part of the data set (NWPU-RESISC45) originally used in <a href=\"https://arxiv.org/pdf/1703.00121.pdf?fbclid=IwAR16qo-EX_Z05ZpxvWG8F-oBU0SlnY-3BPCWBVVOGPyJcVy7BBqCKjnsvJo\">Remote Sensing Image Scene Classification</a>. This data set contains 45 categories while we only kept 13 out of them.\n",
    "\n",
    "References and credits: \n",
    "Yuliya Tarabalka, Guillaume Charpiat, Nicolas Girard for the data sets presentation.<br>\n",
    "Gong Cheng, Junwei Han, and Xiaoqiang Lu, for the original article on the chosen data set.\n",
    "</div>"
   ]
  },
  {
   "cell_type": "markdown",
   "metadata": {},
   "source": [
    "### Requirements \n",
    "\n",
    "Our code uses multiple libraries, so the next cell will install python's required dependencies (probably only possible on your personal computers). In case you don't want to, or are running in the competition's docker, you can comment it."
   ]
  },
  {
   "cell_type": "code",
   "execution_count": 1,
   "metadata": {},
   "outputs": [],
   "source": [
    "#!pip install --user -r requirements.txt"
   ]
  },
  {
   "cell_type": "code",
   "execution_count": 2,
   "metadata": {},
   "outputs": [],
   "source": [
    "import numpy as np\n",
    "import random\n",
    "import re"
   ]
  },
  {
   "cell_type": "code",
   "execution_count": 3,
   "metadata": {},
   "outputs": [],
   "source": [
    "model_dir = \"sample_code_submission/\"\n",
    "result_dir = 'sample_result_submission/' \n",
    "problem_dir = 'ingestion_program/'  \n",
    "score_dir = 'scoring_program/'"
   ]
  },
  {
   "cell_type": "code",
   "execution_count": 4,
   "metadata": {},
   "outputs": [],
   "source": [
    "from sys import path; path.append(model_dir); path.append(problem_dir); path.append(score_dir);"
   ]
  },
  {
   "cell_type": "markdown",
   "metadata": {},
   "source": [
    "<div>\n",
    "    <h1> Step 1: Exploratory data analysis </h1>\n",
    "<p>\n",
    "We provide sample_data with the starting kit, but to prepare your submission, you must fetch the public_data from the challenge website and point to it.\n",
    "</div>"
   ]
  },
  {
   "cell_type": "markdown",
   "metadata": {},
   "source": [
    "<div>\n",
    "<img src=\"CNN.png\" width=800 align=\"center\" border=\"20\">\n",
    "We used a special Convolutional Neural Network (CNN) already trained to recognize images in order to create the new data. To create it, we kept the form of the data at three-fourth in the CNN. <br>\n",
    "This new form is highly similar to weights we can see in a classic neural network.\n",
    "</div>"
   ]
  },
  {
   "cell_type": "code",
   "execution_count": 5,
   "metadata": {},
   "outputs": [],
   "source": [
    "data_dir = 'public_data'\n",
    "data_name = 'Areal'"
   ]
  },
  {
   "cell_type": "code",
   "execution_count": 6,
   "metadata": {
    "scrolled": true
   },
   "outputs": [
    {
     "name": "stdout",
     "output_type": "stream",
     "text": [
      "Reading sample_data/Areal_train from AutoML format\n",
      "Number of examples = 300\n",
      "Number of features = 1024\n",
      "        Class\n",
      "0       beach\n",
      "1   chaparral\n",
      "2       cloud\n",
      "3      desert\n",
      "4      forest\n",
      "5      island\n",
      "6        lake\n",
      "7      meadow\n",
      "8    mountain\n",
      "9       river\n",
      "10        sea\n",
      "11   snowberg\n",
      "12    wetland\n",
      "Number of classes = 13\n"
     ]
    }
   ],
   "source": [
    "from ingestion_program.data_io import read_as_df\n",
    "data = read_as_df(data_dir  + '/' + data_name)"
   ]
  },
  {
   "cell_type": "code",
   "execution_count": 7,
   "metadata": {
    "scrolled": true
   },
   "outputs": [
    {
     "data": {
      "text/html": [
       "<div>\n",
       "<style scoped>\n",
       "    .dataframe tbody tr th:only-of-type {\n",
       "        vertical-align: middle;\n",
       "    }\n",
       "\n",
       "    .dataframe tbody tr th {\n",
       "        vertical-align: top;\n",
       "    }\n",
       "\n",
       "    .dataframe thead th {\n",
       "        text-align: right;\n",
       "    }\n",
       "</style>\n",
       "<table border=\"1\" class=\"dataframe\">\n",
       "  <thead>\n",
       "    <tr style=\"text-align: right;\">\n",
       "      <th></th>\n",
       "      <th>feature_1</th>\n",
       "      <th>feature_2</th>\n",
       "      <th>feature_3</th>\n",
       "      <th>feature_4</th>\n",
       "      <th>feature_5</th>\n",
       "      <th>feature_6</th>\n",
       "      <th>feature_7</th>\n",
       "      <th>feature_8</th>\n",
       "      <th>feature_9</th>\n",
       "      <th>feature_10</th>\n",
       "      <th>...</th>\n",
       "      <th>feature_1016</th>\n",
       "      <th>feature_1017</th>\n",
       "      <th>feature_1018</th>\n",
       "      <th>feature_1019</th>\n",
       "      <th>feature_1020</th>\n",
       "      <th>feature_1021</th>\n",
       "      <th>feature_1022</th>\n",
       "      <th>feature_1023</th>\n",
       "      <th>feature_1024</th>\n",
       "      <th>target</th>\n",
       "    </tr>\n",
       "  </thead>\n",
       "  <tbody>\n",
       "    <tr>\n",
       "      <th>0</th>\n",
       "      <td>0.106071</td>\n",
       "      <td>0.001777</td>\n",
       "      <td>0.004327</td>\n",
       "      <td>0.011661</td>\n",
       "      <td>0.015068</td>\n",
       "      <td>0.010906</td>\n",
       "      <td>0.019826</td>\n",
       "      <td>0.047200</td>\n",
       "      <td>0.009014</td>\n",
       "      <td>0.011369</td>\n",
       "      <td>...</td>\n",
       "      <td>0.035866</td>\n",
       "      <td>0.007674</td>\n",
       "      <td>0.011295</td>\n",
       "      <td>0.006992</td>\n",
       "      <td>0.035666</td>\n",
       "      <td>0.013637</td>\n",
       "      <td>0.054297</td>\n",
       "      <td>0.076698</td>\n",
       "      <td>0.084652</td>\n",
       "      <td>snowberg</td>\n",
       "    </tr>\n",
       "    <tr>\n",
       "      <th>1</th>\n",
       "      <td>0.069425</td>\n",
       "      <td>0.000921</td>\n",
       "      <td>0.018868</td>\n",
       "      <td>0.030748</td>\n",
       "      <td>0.019744</td>\n",
       "      <td>0.003433</td>\n",
       "      <td>0.031509</td>\n",
       "      <td>0.064145</td>\n",
       "      <td>0.043115</td>\n",
       "      <td>0.034331</td>\n",
       "      <td>...</td>\n",
       "      <td>0.025870</td>\n",
       "      <td>0.006954</td>\n",
       "      <td>0.072719</td>\n",
       "      <td>0.008778</td>\n",
       "      <td>0.031796</td>\n",
       "      <td>0.052533</td>\n",
       "      <td>0.026997</td>\n",
       "      <td>0.064874</td>\n",
       "      <td>0.023625</td>\n",
       "      <td>island</td>\n",
       "    </tr>\n",
       "    <tr>\n",
       "      <th>2</th>\n",
       "      <td>0.092052</td>\n",
       "      <td>0.000067</td>\n",
       "      <td>0.012185</td>\n",
       "      <td>0.021340</td>\n",
       "      <td>0.009253</td>\n",
       "      <td>0.010788</td>\n",
       "      <td>0.027914</td>\n",
       "      <td>0.043856</td>\n",
       "      <td>0.009098</td>\n",
       "      <td>0.015725</td>\n",
       "      <td>...</td>\n",
       "      <td>0.019264</td>\n",
       "      <td>0.007737</td>\n",
       "      <td>0.017554</td>\n",
       "      <td>0.004777</td>\n",
       "      <td>0.074484</td>\n",
       "      <td>0.019736</td>\n",
       "      <td>0.034742</td>\n",
       "      <td>0.062472</td>\n",
       "      <td>0.017112</td>\n",
       "      <td>forest</td>\n",
       "    </tr>\n",
       "    <tr>\n",
       "      <th>3</th>\n",
       "      <td>0.123751</td>\n",
       "      <td>0.002270</td>\n",
       "      <td>0.001138</td>\n",
       "      <td>0.042464</td>\n",
       "      <td>0.053743</td>\n",
       "      <td>0.016156</td>\n",
       "      <td>0.060952</td>\n",
       "      <td>0.077559</td>\n",
       "      <td>0.025709</td>\n",
       "      <td>0.034909</td>\n",
       "      <td>...</td>\n",
       "      <td>0.010575</td>\n",
       "      <td>0.006195</td>\n",
       "      <td>0.045711</td>\n",
       "      <td>0.003325</td>\n",
       "      <td>0.021387</td>\n",
       "      <td>0.053118</td>\n",
       "      <td>0.031510</td>\n",
       "      <td>0.088904</td>\n",
       "      <td>0.071321</td>\n",
       "      <td>island</td>\n",
       "    </tr>\n",
       "    <tr>\n",
       "      <th>4</th>\n",
       "      <td>0.095870</td>\n",
       "      <td>0.001628</td>\n",
       "      <td>0.006228</td>\n",
       "      <td>0.023276</td>\n",
       "      <td>0.009811</td>\n",
       "      <td>0.010350</td>\n",
       "      <td>0.119979</td>\n",
       "      <td>0.102470</td>\n",
       "      <td>0.018967</td>\n",
       "      <td>0.020871</td>\n",
       "      <td>...</td>\n",
       "      <td>0.004668</td>\n",
       "      <td>0.004444</td>\n",
       "      <td>0.009534</td>\n",
       "      <td>0.005907</td>\n",
       "      <td>0.168387</td>\n",
       "      <td>0.033255</td>\n",
       "      <td>0.003384</td>\n",
       "      <td>0.030591</td>\n",
       "      <td>0.015277</td>\n",
       "      <td>chaparral</td>\n",
       "    </tr>\n",
       "  </tbody>\n",
       "</table>\n",
       "<p>5 rows × 1025 columns</p>\n",
       "</div>"
      ],
      "text/plain": [
       "   feature_1  feature_2  feature_3  feature_4  feature_5  feature_6  \\\n",
       "0   0.106071   0.001777   0.004327   0.011661   0.015068   0.010906   \n",
       "1   0.069425   0.000921   0.018868   0.030748   0.019744   0.003433   \n",
       "2   0.092052   0.000067   0.012185   0.021340   0.009253   0.010788   \n",
       "3   0.123751   0.002270   0.001138   0.042464   0.053743   0.016156   \n",
       "4   0.095870   0.001628   0.006228   0.023276   0.009811   0.010350   \n",
       "\n",
       "   feature_7  feature_8  feature_9  feature_10  ...  feature_1016  \\\n",
       "0   0.019826   0.047200   0.009014    0.011369  ...      0.035866   \n",
       "1   0.031509   0.064145   0.043115    0.034331  ...      0.025870   \n",
       "2   0.027914   0.043856   0.009098    0.015725  ...      0.019264   \n",
       "3   0.060952   0.077559   0.025709    0.034909  ...      0.010575   \n",
       "4   0.119979   0.102470   0.018967    0.020871  ...      0.004668   \n",
       "\n",
       "   feature_1017  feature_1018  feature_1019  feature_1020  feature_1021  \\\n",
       "0      0.007674      0.011295      0.006992      0.035666      0.013637   \n",
       "1      0.006954      0.072719      0.008778      0.031796      0.052533   \n",
       "2      0.007737      0.017554      0.004777      0.074484      0.019736   \n",
       "3      0.006195      0.045711      0.003325      0.021387      0.053118   \n",
       "4      0.004444      0.009534      0.005907      0.168387      0.033255   \n",
       "\n",
       "   feature_1022  feature_1023  feature_1024     target  \n",
       "0      0.054297      0.076698      0.084652   snowberg  \n",
       "1      0.026997      0.064874      0.023625     island  \n",
       "2      0.034742      0.062472      0.017112     forest  \n",
       "3      0.031510      0.088904      0.071321     island  \n",
       "4      0.003384      0.030591      0.015277  chaparral  \n",
       "\n",
       "[5 rows x 1025 columns]"
      ]
     },
     "execution_count": 7,
     "metadata": {},
     "output_type": "execute_result"
    }
   ],
   "source": [
    "data.head()"
   ]
  },
  {
   "cell_type": "code",
   "execution_count": 8,
   "metadata": {},
   "outputs": [
    {
     "data": {
      "text/html": [
       "<div>\n",
       "<style scoped>\n",
       "    .dataframe tbody tr th:only-of-type {\n",
       "        vertical-align: middle;\n",
       "    }\n",
       "\n",
       "    .dataframe tbody tr th {\n",
       "        vertical-align: top;\n",
       "    }\n",
       "\n",
       "    .dataframe thead th {\n",
       "        text-align: right;\n",
       "    }\n",
       "</style>\n",
       "<table border=\"1\" class=\"dataframe\">\n",
       "  <thead>\n",
       "    <tr style=\"text-align: right;\">\n",
       "      <th></th>\n",
       "      <th>feature_1</th>\n",
       "      <th>feature_2</th>\n",
       "      <th>feature_3</th>\n",
       "      <th>feature_4</th>\n",
       "      <th>feature_5</th>\n",
       "      <th>feature_6</th>\n",
       "      <th>feature_7</th>\n",
       "      <th>feature_8</th>\n",
       "      <th>feature_9</th>\n",
       "      <th>feature_10</th>\n",
       "      <th>...</th>\n",
       "      <th>feature_1015</th>\n",
       "      <th>feature_1016</th>\n",
       "      <th>feature_1017</th>\n",
       "      <th>feature_1018</th>\n",
       "      <th>feature_1019</th>\n",
       "      <th>feature_1020</th>\n",
       "      <th>feature_1021</th>\n",
       "      <th>feature_1022</th>\n",
       "      <th>feature_1023</th>\n",
       "      <th>feature_1024</th>\n",
       "    </tr>\n",
       "  </thead>\n",
       "  <tbody>\n",
       "    <tr>\n",
       "      <th>count</th>\n",
       "      <td>300.000000</td>\n",
       "      <td>300.000000</td>\n",
       "      <td>300.000000</td>\n",
       "      <td>300.000000</td>\n",
       "      <td>300.000000</td>\n",
       "      <td>300.000000</td>\n",
       "      <td>300.000000</td>\n",
       "      <td>300.000000</td>\n",
       "      <td>300.000000</td>\n",
       "      <td>300.000000</td>\n",
       "      <td>...</td>\n",
       "      <td>300.000000</td>\n",
       "      <td>300.000000</td>\n",
       "      <td>300.000000</td>\n",
       "      <td>300.000000</td>\n",
       "      <td>300.000000</td>\n",
       "      <td>300.000000</td>\n",
       "      <td>300.000000</td>\n",
       "      <td>300.000000</td>\n",
       "      <td>300.000000</td>\n",
       "      <td>300.000000</td>\n",
       "    </tr>\n",
       "    <tr>\n",
       "      <th>mean</th>\n",
       "      <td>0.120775</td>\n",
       "      <td>0.003035</td>\n",
       "      <td>0.012286</td>\n",
       "      <td>0.029816</td>\n",
       "      <td>0.022796</td>\n",
       "      <td>0.011357</td>\n",
       "      <td>0.028089</td>\n",
       "      <td>0.056484</td>\n",
       "      <td>0.021844</td>\n",
       "      <td>0.025063</td>\n",
       "      <td>...</td>\n",
       "      <td>0.013223</td>\n",
       "      <td>0.016655</td>\n",
       "      <td>0.011403</td>\n",
       "      <td>0.027674</td>\n",
       "      <td>0.007604</td>\n",
       "      <td>0.059426</td>\n",
       "      <td>0.034883</td>\n",
       "      <td>0.033270</td>\n",
       "      <td>0.040154</td>\n",
       "      <td>0.045940</td>\n",
       "    </tr>\n",
       "    <tr>\n",
       "      <th>std</th>\n",
       "      <td>0.034516</td>\n",
       "      <td>0.004182</td>\n",
       "      <td>0.010794</td>\n",
       "      <td>0.027559</td>\n",
       "      <td>0.016298</td>\n",
       "      <td>0.008459</td>\n",
       "      <td>0.022144</td>\n",
       "      <td>0.017805</td>\n",
       "      <td>0.015389</td>\n",
       "      <td>0.014413</td>\n",
       "      <td>...</td>\n",
       "      <td>0.017772</td>\n",
       "      <td>0.011443</td>\n",
       "      <td>0.008887</td>\n",
       "      <td>0.022417</td>\n",
       "      <td>0.004275</td>\n",
       "      <td>0.035726</td>\n",
       "      <td>0.017830</td>\n",
       "      <td>0.030985</td>\n",
       "      <td>0.033919</td>\n",
       "      <td>0.038091</td>\n",
       "    </tr>\n",
       "    <tr>\n",
       "      <th>min</th>\n",
       "      <td>0.051355</td>\n",
       "      <td>0.000000</td>\n",
       "      <td>0.000046</td>\n",
       "      <td>0.003137</td>\n",
       "      <td>0.000479</td>\n",
       "      <td>0.000000</td>\n",
       "      <td>0.000191</td>\n",
       "      <td>0.015153</td>\n",
       "      <td>0.000141</td>\n",
       "      <td>0.001333</td>\n",
       "      <td>...</td>\n",
       "      <td>0.000000</td>\n",
       "      <td>0.001139</td>\n",
       "      <td>0.000000</td>\n",
       "      <td>0.002762</td>\n",
       "      <td>0.000000</td>\n",
       "      <td>0.005204</td>\n",
       "      <td>0.004798</td>\n",
       "      <td>0.000486</td>\n",
       "      <td>0.000687</td>\n",
       "      <td>0.000198</td>\n",
       "    </tr>\n",
       "    <tr>\n",
       "      <th>25%</th>\n",
       "      <td>0.096800</td>\n",
       "      <td>0.000489</td>\n",
       "      <td>0.004248</td>\n",
       "      <td>0.011659</td>\n",
       "      <td>0.010101</td>\n",
       "      <td>0.004823</td>\n",
       "      <td>0.012591</td>\n",
       "      <td>0.043761</td>\n",
       "      <td>0.009223</td>\n",
       "      <td>0.015776</td>\n",
       "      <td>...</td>\n",
       "      <td>0.001831</td>\n",
       "      <td>0.008007</td>\n",
       "      <td>0.005445</td>\n",
       "      <td>0.012790</td>\n",
       "      <td>0.004795</td>\n",
       "      <td>0.035714</td>\n",
       "      <td>0.021029</td>\n",
       "      <td>0.009940</td>\n",
       "      <td>0.015250</td>\n",
       "      <td>0.017125</td>\n",
       "    </tr>\n",
       "    <tr>\n",
       "      <th>50%</th>\n",
       "      <td>0.115234</td>\n",
       "      <td>0.001629</td>\n",
       "      <td>0.009212</td>\n",
       "      <td>0.020470</td>\n",
       "      <td>0.018810</td>\n",
       "      <td>0.009804</td>\n",
       "      <td>0.022277</td>\n",
       "      <td>0.055789</td>\n",
       "      <td>0.019688</td>\n",
       "      <td>0.023365</td>\n",
       "      <td>...</td>\n",
       "      <td>0.007524</td>\n",
       "      <td>0.013686</td>\n",
       "      <td>0.009319</td>\n",
       "      <td>0.021877</td>\n",
       "      <td>0.007435</td>\n",
       "      <td>0.051159</td>\n",
       "      <td>0.030635</td>\n",
       "      <td>0.024190</td>\n",
       "      <td>0.030191</td>\n",
       "      <td>0.039073</td>\n",
       "    </tr>\n",
       "    <tr>\n",
       "      <th>75%</th>\n",
       "      <td>0.139764</td>\n",
       "      <td>0.003824</td>\n",
       "      <td>0.018444</td>\n",
       "      <td>0.038136</td>\n",
       "      <td>0.031027</td>\n",
       "      <td>0.016193</td>\n",
       "      <td>0.036847</td>\n",
       "      <td>0.065938</td>\n",
       "      <td>0.030548</td>\n",
       "      <td>0.032112</td>\n",
       "      <td>...</td>\n",
       "      <td>0.017248</td>\n",
       "      <td>0.022501</td>\n",
       "      <td>0.014143</td>\n",
       "      <td>0.035120</td>\n",
       "      <td>0.009951</td>\n",
       "      <td>0.079322</td>\n",
       "      <td>0.046225</td>\n",
       "      <td>0.047323</td>\n",
       "      <td>0.057659</td>\n",
       "      <td>0.062446</td>\n",
       "    </tr>\n",
       "    <tr>\n",
       "      <th>max</th>\n",
       "      <td>0.264518</td>\n",
       "      <td>0.030026</td>\n",
       "      <td>0.072500</td>\n",
       "      <td>0.217381</td>\n",
       "      <td>0.075004</td>\n",
       "      <td>0.043993</td>\n",
       "      <td>0.145499</td>\n",
       "      <td>0.122579</td>\n",
       "      <td>0.107858</td>\n",
       "      <td>0.092739</td>\n",
       "      <td>...</td>\n",
       "      <td>0.115501</td>\n",
       "      <td>0.066924</td>\n",
       "      <td>0.065061</td>\n",
       "      <td>0.147605</td>\n",
       "      <td>0.025086</td>\n",
       "      <td>0.192191</td>\n",
       "      <td>0.109442</td>\n",
       "      <td>0.147518</td>\n",
       "      <td>0.202446</td>\n",
       "      <td>0.253949</td>\n",
       "    </tr>\n",
       "  </tbody>\n",
       "</table>\n",
       "<p>8 rows × 1024 columns</p>\n",
       "</div>"
      ],
      "text/plain": [
       "        feature_1   feature_2   feature_3   feature_4   feature_5   feature_6  \\\n",
       "count  300.000000  300.000000  300.000000  300.000000  300.000000  300.000000   \n",
       "mean     0.120775    0.003035    0.012286    0.029816    0.022796    0.011357   \n",
       "std      0.034516    0.004182    0.010794    0.027559    0.016298    0.008459   \n",
       "min      0.051355    0.000000    0.000046    0.003137    0.000479    0.000000   \n",
       "25%      0.096800    0.000489    0.004248    0.011659    0.010101    0.004823   \n",
       "50%      0.115234    0.001629    0.009212    0.020470    0.018810    0.009804   \n",
       "75%      0.139764    0.003824    0.018444    0.038136    0.031027    0.016193   \n",
       "max      0.264518    0.030026    0.072500    0.217381    0.075004    0.043993   \n",
       "\n",
       "        feature_7   feature_8   feature_9  feature_10  ...  feature_1015  \\\n",
       "count  300.000000  300.000000  300.000000  300.000000  ...    300.000000   \n",
       "mean     0.028089    0.056484    0.021844    0.025063  ...      0.013223   \n",
       "std      0.022144    0.017805    0.015389    0.014413  ...      0.017772   \n",
       "min      0.000191    0.015153    0.000141    0.001333  ...      0.000000   \n",
       "25%      0.012591    0.043761    0.009223    0.015776  ...      0.001831   \n",
       "50%      0.022277    0.055789    0.019688    0.023365  ...      0.007524   \n",
       "75%      0.036847    0.065938    0.030548    0.032112  ...      0.017248   \n",
       "max      0.145499    0.122579    0.107858    0.092739  ...      0.115501   \n",
       "\n",
       "       feature_1016  feature_1017  feature_1018  feature_1019  feature_1020  \\\n",
       "count    300.000000    300.000000    300.000000    300.000000    300.000000   \n",
       "mean       0.016655      0.011403      0.027674      0.007604      0.059426   \n",
       "std        0.011443      0.008887      0.022417      0.004275      0.035726   \n",
       "min        0.001139      0.000000      0.002762      0.000000      0.005204   \n",
       "25%        0.008007      0.005445      0.012790      0.004795      0.035714   \n",
       "50%        0.013686      0.009319      0.021877      0.007435      0.051159   \n",
       "75%        0.022501      0.014143      0.035120      0.009951      0.079322   \n",
       "max        0.066924      0.065061      0.147605      0.025086      0.192191   \n",
       "\n",
       "       feature_1021  feature_1022  feature_1023  feature_1024  \n",
       "count    300.000000    300.000000    300.000000    300.000000  \n",
       "mean       0.034883      0.033270      0.040154      0.045940  \n",
       "std        0.017830      0.030985      0.033919      0.038091  \n",
       "min        0.004798      0.000486      0.000687      0.000198  \n",
       "25%        0.021029      0.009940      0.015250      0.017125  \n",
       "50%        0.030635      0.024190      0.030191      0.039073  \n",
       "75%        0.046225      0.047323      0.057659      0.062446  \n",
       "max        0.109442      0.147518      0.202446      0.253949  \n",
       "\n",
       "[8 rows x 1024 columns]"
      ]
     },
     "execution_count": 8,
     "metadata": {},
     "output_type": "execute_result"
    }
   ],
   "source": [
    "data.describe()"
   ]
  },
  {
   "cell_type": "code",
   "execution_count": 9,
   "metadata": {
    "scrolled": true
   },
   "outputs": [
    {
     "name": "stdout",
     "output_type": "stream",
     "text": [
      "        target\n",
      "0     snowberg\n",
      "1       island\n",
      "2       forest\n",
      "3       island\n",
      "4    chaparral\n",
      "5        beach\n",
      "6       island\n",
      "7       forest\n",
      "8      wetland\n",
      "9        river\n",
      "10      island\n",
      "11   chaparral\n",
      "12       cloud\n",
      "13        lake\n",
      "14      meadow\n",
      "15       beach\n",
      "16       cloud\n",
      "17        lake\n",
      "18       cloud\n",
      "19        lake\n",
      "20    snowberg\n",
      "21      forest\n",
      "22     wetland\n",
      "23       river\n",
      "24    snowberg\n",
      "25       river\n",
      "26      desert\n",
      "27       river\n",
      "28     wetland\n",
      "29      island\n",
      "..         ...\n",
      "270       lake\n",
      "271   mountain\n",
      "272      river\n",
      "273        sea\n",
      "274       lake\n",
      "275   snowberg\n",
      "276      cloud\n",
      "277  chaparral\n",
      "278  chaparral\n",
      "279        sea\n",
      "280      river\n",
      "281   mountain\n",
      "282    wetland\n",
      "283       lake\n",
      "284  chaparral\n",
      "285        sea\n",
      "286     forest\n",
      "287       lake\n",
      "288      river\n",
      "289      river\n",
      "290    wetland\n",
      "291     island\n",
      "292        sea\n",
      "293      beach\n",
      "294      cloud\n",
      "295     desert\n",
      "296   mountain\n",
      "297     meadow\n",
      "298     meadow\n",
      "299     forest\n",
      "\n",
      "[300 rows x 1 columns]\n"
     ]
    }
   ],
   "source": [
    "print(data.iloc[:, -1:])\n",
    "X = data.iloc[:, :-1]\n",
    "y = data.iloc[:, -1:]"
   ]
  },
  {
   "cell_type": "markdown",
   "metadata": {},
   "source": [
    "### Visualization of values\n",
    "\n",
    "Most values are in the range (0, 5)."
   ]
  },
  {
   "cell_type": "code",
   "execution_count": 10,
   "metadata": {},
   "outputs": [
    {
     "data": {
      "image/png": "[encoded data removed]",
      "text/plain": [
       "<matplotlib.figure.Figure at 0x7f59434e67b8>"
      ]
     },
     "metadata": {},
     "output_type": "display_data"
    }
   ],
   "source": [
    "import matplotlib.pyplot as plt\n",
    "%matplotlib inline\n",
    "\n",
    "plt.figure(figsize=(30,15))\n",
    "# Plot values of first 10 features\n",
    "data_plot=data.iloc[:,:10]\n",
    "data_plot.boxplot()\n",
    "plt.show()"
   ]
  },
  {
   "cell_type": "markdown",
   "metadata": {},
   "source": [
    "### Visualisation as images\n",
    "\n",
    "Although any human won't be able to make sense of those images, it is by far simpler and faster for computers to correctly recognize those \"images\" and assign them their correct classes."
   ]
  },
  {
   "cell_type": "code",
   "execution_count": 11,
   "metadata": {},
   "outputs": [
    {
     "data": {
      "image/png": "[encoded data removed]",
      "text/plain": [
       "<matplotlib.figure.Figure at 0x7f5939575588>"
      ]
     },
     "metadata": {},
     "output_type": "display_data"
    }
   ],
   "source": [
    "import matplotlib.image as mpimg\n",
    "\n",
    "num_toshow = 6\n",
    "fig, _axs = plt.subplots(nrows=2, ncols=3, figsize=(10,10))\n",
    "fig.subplots_adjust(hspace=0.3)\n",
    "axs = _axs.flatten()\n",
    "\n",
    "for i in range(num_toshow):\n",
    "    img = data.iloc[i].values[:-1].reshape(32, 32)\n",
    "    label = data.values[i][-1:]\n",
    "    axs[i].set_title('Example of {}'.format(label))\n",
    "    axs[i].imshow(img.astype(float))\n",
    "\n",
    "plt.show()"
   ]
  },
  {
   "cell_type": "markdown",
   "metadata": {},
   "source": [
    "# Step 2: Building a predictive model"
   ]
  },
  {
   "cell_type": "markdown",
   "metadata": {},
   "source": [
    "Use DataManager to separate data for train, validation and test"
   ]
  },
  {
   "cell_type": "code",
   "execution_count": 12,
   "metadata": {},
   "outputs": [
    {
     "name": "stdout",
     "output_type": "stream",
     "text": [
      "Info file found : /home/tp-home009/fpinto/projects/prepro_orbiter/starting_kit/sample_data/Areal_public.info\n",
      "DataManager : Areal\n",
      "info:\n",
      "\tusage = Sample dataset Areal preprocessed data\n",
      "\tname = areal\n",
      "\ttask = multiclass.classification\n",
      "\ttarget_type = Categorical\n",
      "\tfeat_type = Numerical\n",
      "\tmetric = accuracy\n",
      "\ttime_budget = 12000\n",
      "\tfeat_num = 1024\n",
      "\ttarget_num = 13\n",
      "\tlabel_num = 13\n",
      "\ttrain_num = 300\n",
      "\tvalid_num = 150\n",
      "\ttest_num = 150\n",
      "\thas_categorical = 0\n",
      "\thas_missing = 0\n",
      "\tis_sparse = 0\n",
      "\tformat = dense\n",
      "data:\n",
      "\tX_train = array(300, 1024)\n",
      "\tY_train = array(300, 1)\n",
      "\tX_valid = array(150, 1024)\n",
      "\tY_valid = array(150, 1)\n",
      "\tX_test = array(150, 1024)\n",
      "\tY_test = array(150, 1)\n",
      "feat_type:\tarray(1024,)\n",
      "feat_idx:\tarray(0,)\n",
      "\n"
     ]
    }
   ],
   "source": [
    "from data_manager import DataManager\n",
    "D = DataManager(data_name, data_dir)\n",
    "print(D)"
   ]
  },
  {
   "cell_type": "markdown",
   "metadata": {},
   "source": [
    "Get data and labels by calling D.data (DataManager.data)"
   ]
  },
  {
   "cell_type": "code",
   "execution_count": 13,
   "metadata": {},
   "outputs": [],
   "source": [
    "X_train = D.data['X_train']\n",
    "Y_train = D.data['Y_train']"
   ]
  },
  {
   "cell_type": "markdown",
   "metadata": {},
   "source": [
    "The model is a simpler version of the decision tree algorithm of sklearn.\n",
    "\n",
    "You can only change the parameter max_depth which has a default value of 5."
   ]
  },
  {
   "cell_type": "code",
   "execution_count": 14,
   "metadata": {},
   "outputs": [
    {
     "ename": "ImportError",
     "evalue": "cannot import name 'SimpleDecisionTree'",
     "output_type": "error",
     "traceback": [
      "\u001b[0;31m---------------------------------------------------------------------------\u001b[0m",
      "\u001b[0;31mImportError\u001b[0m                               Traceback (most recent call last)",
      "\u001b[0;32m<ipython-input-14-ea27175efee0>\u001b[0m in \u001b[0;36m<module>\u001b[0;34m()\u001b[0m\n\u001b[0;32m----> 1\u001b[0;31m \u001b[0;32mfrom\u001b[0m \u001b[0mmodel\u001b[0m \u001b[0;32mimport\u001b[0m \u001b[0mSimpleDecisionTree\u001b[0m\u001b[0;34m\u001b[0m\u001b[0m\n\u001b[0m",
      "\u001b[0;31mImportError\u001b[0m: cannot import name 'SimpleDecisionTree'"
     ]
    }
   ],
   "source": [
    "from model import SimpleDecisionTree"
   ]
  },
  {
   "cell_type": "code",
   "execution_count": null,
   "metadata": {},
   "outputs": [],
   "source": [
    "M = SimpleDecisionTree()"
   ]
  },
  {
   "cell_type": "markdown",
   "metadata": {},
   "source": [
    "#### Fit the model\n",
    "\n",
    "Data as first argument, Labels as second, with .reshape(-1) to make sure that the array containing labels is flat and don't have multiple dimensions."
   ]
  },
  {
   "cell_type": "code",
   "execution_count": null,
   "metadata": {},
   "outputs": [],
   "source": [
    "M.fit(X_train, Y_train.reshape(-1))"
   ]
  },
  {
   "cell_type": "code",
   "execution_count": null,
   "metadata": {},
   "outputs": [],
   "source": [
    "Y_hat_train = M.predict(D.data['X_train'])\n",
    "Y_hat_valid = M.predict(D.data['X_valid'])\n",
    "Y_hat_test = M.predict(D.data['X_test'])"
   ]
  },
  {
   "cell_type": "code",
   "execution_count": null,
   "metadata": {},
   "outputs": [],
   "source": [
    "# m.save(trained_model_name)                 \n",
    "result_name = result_dir + data_name\n",
    "from data_io import write\n",
    "from data_io import mkdir\n",
    "mkdir(result_dir)\n",
    "\n",
    "write(result_name + '_train.predict', Y_hat_train)\n",
    "write(result_name + '_valid.predict', Y_hat_valid)\n",
    "write(result_name + '_test.predict', Y_hat_test)\n",
    "!ls $result_name*"
   ]
  },
  {
   "cell_type": "markdown",
   "metadata": {},
   "source": [
    "# Scoring predictions"
   ]
  },
  {
   "cell_type": "code",
   "execution_count": null,
   "metadata": {},
   "outputs": [],
   "source": [
    "from libscores import get_metric\n",
    "metric_name, scoring_function = get_metric()\n",
    "print('Using scoring metric:', metric_name)"
   ]
  },
  {
   "cell_type": "code",
   "execution_count": null,
   "metadata": {
    "scrolled": true
   },
   "outputs": [],
   "source": [
    "print('Ideal score for the', metric_name, 'metric = %5.4f' % scoring_function(Y_train, Y_train), \"\\n\")\n",
    "\n",
    "print(\"Scores with BaselineModel\")\n",
    "print('Training score for the', metric_name, 'metric = %5.4f' % scoring_function(Y_train, Y_hat_train))\n",
    "if len(D.data['Y_valid'] > 0) and len(D.data['Y_test'] > 0):\n",
    "    print('Validation score for the', metric_name, 'metric = %5.4f' % scoring_function(D.data['Y_valid'], Y_hat_valid))\n",
    "    print('Test score for the', metric_name, 'metric = %5.4f' % scoring_function(D.data['Y_test'], Y_hat_test))"
   ]
  },
  {
   "cell_type": "markdown",
   "metadata": {},
   "source": [
    "Keep in mind that the provided model is one that heavily overfits so you shouldn't look too much at the training score.\n",
    "\n",
    "Using cross-validation (see a bit below) will give more significant results."
   ]
  },
  {
   "cell_type": "markdown",
   "metadata": {},
   "source": [
    "## Confusion matrix\n",
    "\n",
    "Doesn't have much value on train with a 100% accuracy, but it can be good to look at if you change your model."
   ]
  },
  {
   "cell_type": "code",
   "execution_count": null,
   "metadata": {},
   "outputs": [],
   "source": [
    "from sklearn.metrics import confusion_matrix\n",
    "confusion_matrix(Y_train, Y_hat_train)"
   ]
  },
  {
   "cell_type": "markdown",
   "metadata": {},
   "source": [
    "# Cross-validation\n",
    "\n",
    "Because validation and test labels should first not be available, we do cross validation to see our models quality"
   ]
  },
  {
   "cell_type": "code",
   "execution_count": null,
   "metadata": {
    "scrolled": true
   },
   "outputs": [],
   "source": [
    "from sklearn.metrics import make_scorer\n",
    "from sklearn.model_selection import cross_val_score\n",
    "\n",
    "scores = cross_val_score(M, X_train, Y_train.ravel(), cv=5, scoring=make_scorer(scoring_function))\n",
    "print('\\nCV score (95 perc. CI): %0.2f (+/- %0.2f)' % (scores.mean(), scores.std() * 2))"
   ]
  },
  {
   "cell_type": "markdown",
   "metadata": {},
   "source": [
    "# Submission\n",
    "\n",
    "## Example\n",
    "\n",
    "Example needs to have python3 installed\n",
    "\n",
    "Test to see whether submission with ingestion program is working"
   ]
  },
  {
   "cell_type": "code",
   "execution_count": null,
   "metadata": {
    "scrolled": false
   },
   "outputs": [],
   "source": [
    "!python3 $problem_dir/ingestion.py $data_dir $result_dir $problem_dir $model_dir"
   ]
  },
  {
   "cell_type": "markdown",
   "metadata": {},
   "source": [
    "### Test scoring program"
   ]
  },
  {
   "cell_type": "code",
   "execution_count": null,
   "metadata": {},
   "outputs": [],
   "source": [
    "scoring_output_dir = 'scoring_output'\n",
    "!python3 $score_dir/score.py $data_dir $result_dir $scoring_output_dir"
   ]
  },
  {
   "cell_type": "markdown",
   "metadata": {},
   "source": [
    "# Prepare the submission"
   ]
  },
  {
   "cell_type": "code",
   "execution_count": null,
   "metadata": {},
   "outputs": [],
   "source": [
    "import datetime \n",
    "from data_io import zipdir\n",
    "the_date = datetime.datetime.now().strftime(\"%y-%m-%d-%H-%M\")\n",
    "sample_code_submission = './sample_code_submission_prep_' + the_date + '.zip'\n",
    "sample_result_submission = './sample_result_submission_prep_' + the_date + '.zip'\n",
    "zipdir(sample_code_submission, model_dir)\n",
    "zipdir(sample_result_submission, result_dir)\n",
    "print(\"Submit one of these files:\\n\" + sample_code_submission + \"\\n\" + sample_result_submission)"
   ]
  },
  {
   "cell_type": "code",
   "execution_count": null,
   "metadata": {},
   "outputs": [],
   "source": []
  }
 ],
 "metadata": {
  "kernelspec": {
   "display_name": "Python 3",
   "language": "python",
   "name": "python3"
  },
  "language_info": {
   "codemirror_mode": {
    "name": "ipython",
    "version": 3
   },
   "file_extension": ".py",
   "mimetype": "text/x-python",
   "name": "python",
   "nbconvert_exporter": "python",
   "pygments_lexer": "ipython3",
   "version": "3.6.0"
  }
 },
 "nbformat": 4,
 "nbformat_minor": 2
}
